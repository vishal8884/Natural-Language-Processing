{
  "nbformat": 4,
  "nbformat_minor": 0,
  "metadata": {
    "colab": {
      "provenance": [],
      "toc_visible": true,
      "authorship_tag": "ABX9TyPVeHDiK2lmmIqc4J1s/WnD",
      "include_colab_link": true
    },
    "kernelspec": {
      "name": "python3",
      "display_name": "Python 3"
    },
    "language_info": {
      "name": "python"
    }
  },
  "cells": [
    {
      "cell_type": "markdown",
      "metadata": {
        "id": "view-in-github",
        "colab_type": "text"
      },
      "source": [
        "<a href=\"https://colab.research.google.com/github/vishal8884/Natural-Language-Processing/blob/main/Untitled0.ipynb\" target=\"_parent\"><img src=\"https://colab.research.google.com/assets/colab-badge.svg\" alt=\"Open In Colab\"/></a>"
      ]
    },
    {
      "cell_type": "code",
      "execution_count": 16,
      "metadata": {
        "id": "8tH5wl0JjBrI"
      },
      "outputs": [],
      "source": [
        "corpus = \"\"\"\n",
        "hello My Name is Vishal.\n",
        "I am Learning Natural Language processing! module from AI, its great.\n",
        "It looks intresting\n",
        "\"\"\""
      ]
    },
    {
      "cell_type": "code",
      "source": [
        "corpus"
      ],
      "metadata": {
        "colab": {
          "base_uri": "https://localhost:8080/",
          "height": 36
        },
        "id": "eATsYEDMjDLq",
        "outputId": "94c58667-00fb-4627-b87d-e31cc40209ae"
      },
      "execution_count": null,
      "outputs": [
        {
          "output_type": "execute_result",
          "data": {
            "text/plain": [
              "'\\nhello My Name is Vishal.\\nI am Learning Natural Language processing! module from AI.\\nIt looks intresting\\n'"
            ],
            "application/vnd.google.colaboratory.intrinsic+json": {
              "type": "string"
            }
          },
          "metadata": {},
          "execution_count": 2
        }
      ]
    },
    {
      "cell_type": "code",
      "source": [
        "from nltk.tokenize import sent_tokenize\n",
        "\n",
        "documents = sent_tokenize(corpus)\n",
        "for sentence in documents:\n",
        "    print(sentence);"
      ],
      "metadata": {
        "colab": {
          "base_uri": "https://localhost:8080/"
        },
        "id": "qWLn27vUjFvg",
        "outputId": "4f7f0689-2f29-43e0-81ff-b5bcd6fc030e"
      },
      "execution_count": 17,
      "outputs": [
        {
          "output_type": "stream",
          "name": "stdout",
          "text": [
            "\n",
            "hello My Name is Vishal.\n",
            "I am Learning Natural Language processing!\n",
            "module from AI, its great.\n",
            "It looks intresting\n"
          ]
        }
      ]
    },
    {
      "cell_type": "code",
      "source": [
        "from nltk.tokenize import word_tokenize\n",
        "\n",
        "words = word_tokenize(corpus)\n",
        "for word in words:\n",
        "    print(word);"
      ],
      "metadata": {
        "colab": {
          "base_uri": "https://localhost:8080/"
        },
        "id": "9Q5uL95Bj3rQ",
        "outputId": "9213d408-aa1b-4f50-943d-5c0dbbe2cc54"
      },
      "execution_count": 18,
      "outputs": [
        {
          "output_type": "stream",
          "name": "stdout",
          "text": [
            "hello\n",
            "My\n",
            "Name\n",
            "is\n",
            "Vishal\n",
            ".\n",
            "I\n",
            "am\n",
            "Learning\n",
            "Natural\n",
            "Language\n",
            "processing\n",
            "!\n",
            "module\n",
            "from\n",
            "AI\n",
            ",\n",
            "its\n",
            "great\n",
            ".\n",
            "It\n",
            "looks\n",
            "intresting\n"
          ]
        }
      ]
    },
    {
      "cell_type": "code",
      "source": [
        "from nltk.tokenize import wordpunct_tokenize\n",
        "wordspunct = wordpunct_tokenize(corpus)\n",
        "\n",
        "for word in wordspunct:\n",
        "    print(word);\n"
      ],
      "metadata": {
        "colab": {
          "base_uri": "https://localhost:8080/"
        },
        "id": "5dQpIqpwls8w",
        "outputId": "d3f095e4-6045-460e-d8a5-cf66041383bf"
      },
      "execution_count": 20,
      "outputs": [
        {
          "output_type": "stream",
          "name": "stdout",
          "text": [
            "hello\n",
            "My\n",
            "Name\n",
            "is\n",
            "Vishal\n",
            ".\n",
            "I\n",
            "am\n",
            "Learning\n",
            "Natural\n",
            "Language\n",
            "processing\n",
            "!\n",
            "module\n",
            "from\n",
            "AI\n",
            ",\n",
            "its\n",
            "great\n",
            ".\n",
            "It\n",
            "looks\n",
            "intresting\n"
          ]
        }
      ]
    },
    {
      "cell_type": "code",
      "source": [
        "from nltk.tokenize import TreebankWordTokenizer\n",
        "\n",
        "tokenizer = TreebankWordTokenizer()\n",
        "treebank = tokenizer.tokenize(corpus);\n",
        "\n",
        "print(treebank)"
      ],
      "metadata": {
        "colab": {
          "base_uri": "https://localhost:8080/"
        },
        "id": "yiuczrKAmekp",
        "outputId": "c5ed1372-d985-4bf8-8fe2-d2aec1b99b3d"
      },
      "execution_count": 22,
      "outputs": [
        {
          "output_type": "stream",
          "name": "stdout",
          "text": [
            "['hello', 'My', 'Name', 'is', 'Vishal.', 'I', 'am', 'Learning', 'Natural', 'Language', 'processing', '!', 'module', 'from', 'AI', ',', 'its', 'great.', 'It', 'looks', 'intresting']\n"
          ]
        }
      ]
    }
  ]
}