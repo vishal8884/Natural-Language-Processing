{
  "nbformat": 4,
  "nbformat_minor": 0,
  "metadata": {
    "colab": {
      "provenance": [],
      "toc_visible": true,
      "authorship_tag": "ABX9TyMaVD45pASWQ0iwLplJN7ZZ",
      "include_colab_link": true
    },
    "kernelspec": {
      "name": "python3",
      "display_name": "Python 3"
    },
    "language_info": {
      "name": "python"
    }
  },
  "cells": [
    {
      "cell_type": "markdown",
      "metadata": {
        "id": "view-in-github",
        "colab_type": "text"
      },
      "source": [
        "<a href=\"https://colab.research.google.com/github/vishal8884/Natural-Language-Processing/blob/main/tokenization.ipynb\" target=\"_parent\"><img src=\"https://colab.research.google.com/assets/colab-badge.svg\" alt=\"Open In Colab\"/></a>"
      ]
    },
    {
      "cell_type": "code",
      "execution_count": null,
      "metadata": {
        "id": "8tH5wl0JjBrI"
      },
      "outputs": [],
      "source": [
        "corpus = \"\"\"\n",
        "hello My Name is Vishal.\n",
        "I am Learning Natural Language processing! module from AI.\n",
        "It looks intresting\n",
        "\"\"\""
      ]
    },
    {
      "cell_type": "code",
      "source": [
        "corpus"
      ],
      "metadata": {
        "colab": {
          "base_uri": "https://localhost:8080/",
          "height": 36
        },
        "id": "eATsYEDMjDLq",
        "outputId": "94c58667-00fb-4627-b87d-e31cc40209ae"
      },
      "execution_count": null,
      "outputs": [
        {
          "output_type": "execute_result",
          "data": {
            "text/plain": [
              "'\\nhello My Name is Vishal.\\nI am Learning Natural Language processing! module from AI.\\nIt looks intresting\\n'"
            ],
            "application/vnd.google.colaboratory.intrinsic+json": {
              "type": "string"
            }
          },
          "metadata": {},
          "execution_count": 2
        }
      ]
    },
    {
      "cell_type": "code",
      "source": [
        "from nltk.tokenize import sent_tokenize\n",
        "\n",
        "documents = sent_tokenize(corpus)\n",
        "for sentence in documents:\n",
        "    print(sentence);"
      ],
      "metadata": {
        "colab": {
          "base_uri": "https://localhost:8080/"
        },
        "id": "qWLn27vUjFvg",
        "outputId": "9c71a67a-94d4-44ba-bd49-67616f520189"
      },
      "execution_count": null,
      "outputs": [
        {
          "output_type": "stream",
          "name": "stdout",
          "text": [
            "\n",
            "hello My Name is Vishal.\n",
            "I am Learning Natural Language processing!\n",
            "module from AI.\n",
            "It looks intresting\n"
          ]
        }
      ]
    },
    {
      "cell_type": "code",
      "source": [
        "from nltk.tokenize import word_tokenize\n",
        "\n",
        "words = word_tokenize(corpus)\n",
        "for word in words:\n",
        "    print(word);"
      ],
      "metadata": {
        "colab": {
          "base_uri": "https://localhost:8080/"
        },
        "id": "9Q5uL95Bj3rQ",
        "outputId": "cada754c-c626-492a-d212-3781a171a59d"
      },
      "execution_count": null,
      "outputs": [
        {
          "output_type": "stream",
          "name": "stdout",
          "text": [
            "hello\n",
            "My\n",
            "Name\n",
            "is\n",
            "Vishal\n",
            ".\n",
            "I\n",
            "am\n",
            "Learning\n",
            "Natural\n",
            "Language\n",
            "processing\n",
            "!\n",
            "module\n",
            "from\n",
            "AI\n",
            ".\n",
            "It\n",
            "looks\n",
            "intresting\n"
          ]
        }
      ]
    }
  ]
}